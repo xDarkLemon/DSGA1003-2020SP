{
 "cells": [
  {
   "cell_type": "markdown",
   "metadata": {},
   "source": [
    "## Excess Risk Decomposition"
   ]
  },
  {
   "cell_type": "markdown",
   "metadata": {},
   "source": [
    "Recall that: <br>\n",
    "Approximation Error for $\\mathcal{H}$ = $R(f^*_{\\mathcal{H}}) - R(f^*) $ <br>\n",
    "Estimation Error of $\\ \\hat{f}_\\mathcal{H}$ = $R(\\hat{f}_{\\mathcal{H}}) - R(f_{\\mathcal{H}})$ <br>\n",
    "Excess Risk of f = $R(f) - R(f^*)$"
   ]
  },
  {
   "cell_type": "markdown",
   "metadata": {},
   "source": [
    "### Exercise:\n",
    "1. From the values we calculated above, what is the approximation error for linear hypothesis space? Is approximation error a random variable? \n",
    "2. What is the estimation error of $\\ \\hat{f}_\\mathcal{H}$? Is estimation error a random variable? \n",
    "3. What is the excess risk of  $\\ \\hat{f}_\\mathcal{H}$? Is this a random variable? "
   ]
  },
  {
   "cell_type": "markdown",
   "metadata": {},
   "source": [
    "#### Answers:\n",
    "\n",
    "1. Approximation Error is not random. \n",
    "2. Estimation Error is random. \n",
    "3. Excess risk of $\\ \\hat{f}_\\mathcal{H}$ is random."
   ]
  },
  {
   "cell_type": "markdown",
   "metadata": {},
   "source": [
    "## Data Generating Process and Utility Functions"
   ]
  },
  {
   "cell_type": "code",
   "execution_count": 1,
   "metadata": {
    "collapsed": true
   },
   "outputs": [],
   "source": [
    "import numpy as np\n",
    "import matplotlib.pyplot as plt\n",
    "from functools import partial\n",
    "from sklearn import linear_model\n",
    "from scipy.stats import norm\n",
    "import matplotlib.mlab as mlab\n",
    "%matplotlib inline"
   ]
  },
  {
   "cell_type": "code",
   "execution_count": 2,
   "metadata": {
    "collapsed": true
   },
   "outputs": [],
   "source": [
    "mu_a = 1;\n",
    "sigma_a = 1;\n",
    "\n",
    "mu_b = 2;\n",
    "sigma_b = 1; \n",
    "\n",
    "mu_c = 3;\n",
    "sigma_c = 1;\n",
    "\n",
    "mu_x = 0;\n",
    "sigma_x = 1;\n",
    "\n",
    "assert( (mu_x == 0) and (sigma_x == 1))"
   ]
  },
  {
   "cell_type": "code",
   "execution_count": 3,
   "metadata": {
    "collapsed": true
   },
   "outputs": [],
   "source": [
    "def plot_prediction_function(f_list = None, label_list = None, data = None, alpha = 0.9, include_data_x = False,\n",
    "                            x_label=None, y_label=None):\n",
    "    \"\"\"\n",
    "    Util function that visualizes a dataset\n",
    "    \"\"\"\n",
    "    plt.figure(figsize=(20,10))\n",
    "    \n",
    "    if data is not None:\n",
    "        x_min, x_max = np.min(data[:, 0]), np.max(data[:, 0])\n",
    "    else:\n",
    "        x_min, x_max = -5.0, 5.0;\n",
    "        \n",
    "    if ( (f_list is not None) and (label_list is not None) ):\n",
    "        x_array = np.arange(x_min, x_max, 0.1);\n",
    "        if include_data_x:\n",
    "            x_array = np.concatenate([x_array, data[:, 0], data[:, 0]+0.001, data[:, 0]-0.001])\n",
    "            x_array = np.sort(x_array)\n",
    "\n",
    "\n",
    "        for f, label in zip(f_list, label_list):\n",
    "            f_y = f(x_array);\n",
    "            plt.plot(x_array, f_y, label=label);\n",
    "    \n",
    "    if data is not None:\n",
    "        plt.scatter(data[:, 0], data[:, 1], alpha = alpha )\n",
    "        \n",
    "    if label_list is not None:\n",
    "        plt.legend()\n",
    "    if x_label is not None:\n",
    "        plt.xlabel(x_label)\n",
    "    if y_label is not None:\n",
    "        plt.ylabel(y_label)\n",
    "    plt.show()"
   ]
  },
  {
   "cell_type": "code",
   "execution_count": 4,
   "metadata": {
    "collapsed": true
   },
   "outputs": [],
   "source": [
    "## assumes g is a polynomial. Takes in a coeff list, where coeff_list[i] is the coefficient of x^i and x to evaluate it at\n",
    "def template_g(coeff_list, x):\n",
    "    ans = 0;\n",
    "    for i, coeff in enumerate(coeff_list):\n",
    "        ans += coeff * (x**i)\n",
    "    return ans\n",
    "\n",
    "### generates one sample function g\n",
    "def sample_g():\n",
    "    a = np.random.randn() * sigma_a + mu_a;\n",
    "    b = np.random.randn() * sigma_b + mu_b;\n",
    "    c = np.random.randn() * sigma_c + mu_c;\n",
    "    \n",
    "    return partial(template_g, [c, b, a] )\n",
    "    \n",
    "## give one (x,y) sample\n",
    "def get_one_x_y_sample():\n",
    "    x = np.random.randn()*sigma_x + mu_x;\n",
    "    g = sample_g()\n",
    "    return x, g(x)\n",
    "\n",
    "## gives a matrix with first column x and second column y\n",
    "def generate_n_samples(n = 1000):\n",
    "    \"\"\"\n",
    "    Function that generates multiple samples\n",
    "    @return: a (n,2) numpy matrix\n",
    "    \"\"\"\n",
    "    matrix = np.zeros([n, 2]);\n",
    "    for i in range(n):\n",
    "        matrix[i] = get_one_x_y_sample();\n",
    "    return matrix\n",
    "\n",
    "## use get_one_x_y_sample()\n",
    "def estimate_risk(f, n_try = int(1e5) ):\n",
    "    sum = 0;\n",
    "    for i in range(n_try):\n",
    "        x, y = get_one_x_y_sample()\n",
    "        sum += (f(x) - y)**2\n",
    "    return sum/n_try\n",
    "\n",
    "def linear_function_risk(alpha, beta):\n",
    "    return 3*(sigma_a**2 + mu_a**2) + sigma_b**2 + (mu_b-alpha)**2 + 2*(mu_c - beta)*mu_a + sigma_c**2 + (mu_c - beta)**2; \n",
    "\n",
    "def empirical_risk(f, sample_matrix):\n",
    "    fy_array = f(sample_matrix[:, 0]);\n",
    "    risk = np.mean((fy_array - sample_matrix[:, 1]) ** 2)\n",
    "    return risk"
   ]
  },
  {
   "cell_type": "code",
   "execution_count": 5,
   "metadata": {
    "collapsed": false
   },
   "outputs": [
    {
     "name": "stdout",
     "output_type": "stream",
     "text": [
      "MC Risk:  7.061878639898193\n",
      "Risk : 7\n",
      "Bayes Risk : 5\n"
     ]
    }
   ],
   "source": [
    "### Estimating Risk\n",
    "linear_f_star = partial(template_g, [mu_a + mu_c, mu_b]);\n",
    "mc_linear_f_star_risk = estimate_risk( linear_f_star) \n",
    "print('MC Risk: ', mc_linear_f_star_risk)\n",
    "\n",
    "linear_f_star_risk = linear_function_risk(mu_b, mu_a + mu_c)\n",
    "print('Risk :' , linear_f_star_risk)\n",
    "\n",
    "bayes_risk = sigma_a**2 * 3  + sigma_b**2 * ( sigma_x**2 + mu_x**2) + sigma_c**2;\n",
    "print('Bayes Risk :' ,bayes_risk)"
   ]
  },
  {
   "cell_type": "markdown",
   "metadata": {},
   "source": [
    "### Estimation Error and Excess risk of $\\hat{f}_\\mathcal{H}$"
   ]
  },
  {
   "cell_type": "code",
   "execution_count": 6,
   "metadata": {
    "collapsed": true
   },
   "outputs": [],
   "source": [
    "data = generate_n_samples(n = 100);"
   ]
  },
  {
   "cell_type": "code",
   "execution_count": 7,
   "metadata": {
    "collapsed": true
   },
   "outputs": [],
   "source": [
    "def estimation_error_and_excess_risk(data, risk_fh, risk_f_star):\n",
    "    reg = linear_model.LinearRegression(fit_intercept=True).fit(data[:, 0:1], data[:, 1]);\n",
    "    linear_f_hat_risk = linear_function_risk(reg.coef_[0], reg.intercept_)\n",
    "    \n",
    "    return linear_f_hat_risk - risk_fh, linear_f_hat_risk - risk_f_star"
   ]
  },
  {
   "cell_type": "code",
   "execution_count": 8,
   "metadata": {
    "collapsed": false
   },
   "outputs": [],
   "source": [
    "n_try = 1000;\n",
    "estimation_error_array = np.zeros(n_try);\n",
    "excess_risk_array = np.zeros(n_try)\n",
    "for i in range(n_try):\n",
    "    estimation_error_array[i], excess_risk_array[i] = estimation_error_and_excess_risk( generate_n_samples(n = 100), linear_f_star_risk, bayes_risk)"
   ]
  },
  {
   "cell_type": "code",
   "execution_count": 9,
   "metadata": {
    "collapsed": false
   },
   "outputs": [
    {
     "data": {
      "image/png": "[encoded data removed]",
      "text/plain": [
       "<Figure size 432x288 with 1 Axes>"
      ]
     },
     "metadata": {},
     "output_type": "display_data"
    }
   ],
   "source": [
    "_ = plt.hist(estimation_error_array, bins = 100)"
   ]
  },
  {
   "cell_type": "code",
   "execution_count": 10,
   "metadata": {
    "collapsed": false
   },
   "outputs": [
    {
     "data": {
      "image/png": "[encoded data removed]",
      "text/plain": [
       "<Figure size 432x288 with 1 Axes>"
      ]
     },
     "metadata": {},
     "output_type": "display_data"
    }
   ],
   "source": [
    "_ = plt.hist(excess_risk_array, bins = 100)"
   ]
  },
  {
   "cell_type": "markdown",
   "metadata": {},
   "source": [
    "### Optimization Error"
   ]
  },
  {
   "cell_type": "markdown",
   "metadata": {},
   "source": [
    "Since we were optimizing for L2 loss over a linear hypothesis space, we found the best possible $\\hat{f}_\\mathcal{H}$ (upto numerical error) using the closed form expression for linear regression. What if we use SGD instead to find $f$ and stop iterations prematurely?"
   ]
  },
  {
   "cell_type": "code",
   "execution_count": 11,
   "metadata": {
    "collapsed": true
   },
   "outputs": [],
   "source": [
    "reg_sgd = linear_model.SGDRegressor(max_iter=3, \n",
    "                                    fit_intercept = True, \n",
    "                                    penalty = 'none', #No Regularization\n",
    "                                    tol = None)"
   ]
  },
  {
   "cell_type": "code",
   "execution_count": 12,
   "metadata": {
    "collapsed": false
   },
   "outputs": [
    {
     "data": {
      "text/plain": [
       "SGDRegressor(alpha=0.0001, average=False, early_stopping=False, epsilon=0.1,\n",
       "       eta0=0.01, fit_intercept=True, l1_ratio=0.15,\n",
       "       learning_rate='invscaling', loss='squared_loss', max_iter=3,\n",
       "       n_iter=None, n_iter_no_change=5, penalty='none', power_t=0.25,\n",
       "       random_state=None, shuffle=True, tol=None, validation_fraction=0.1,\n",
       "       verbose=0, warm_start=False)"
      ]
     },
     "execution_count": 12,
     "metadata": {},
     "output_type": "execute_result"
    }
   ],
   "source": [
    "reg_sgd.fit(data[:, 0:1], data[:, 1])"
   ]
  },
  {
   "cell_type": "code",
   "execution_count": 13,
   "metadata": {
    "collapsed": false
   },
   "outputs": [
    {
     "data": {
      "text/plain": [
       "(array([2.44715005]), array([1.17229068]))"
      ]
     },
     "execution_count": 13,
     "metadata": {},
     "output_type": "execute_result"
    }
   ],
   "source": [
    "reg_sgd.intercept_, reg_sgd.coef_"
   ]
  },
  {
   "cell_type": "code",
   "execution_count": 14,
   "metadata": {
    "collapsed": true
   },
   "outputs": [],
   "source": [
    "linear_f_tilde = partial(template_g, [reg_sgd.intercept_[0], reg_sgd.coef_[0]])"
   ]
  },
  {
   "cell_type": "code",
   "execution_count": 15,
   "metadata": {
    "collapsed": true
   },
   "outputs": [],
   "source": [
    "reg = linear_model.LinearRegression(fit_intercept=True).fit(data[:, 0:1], data[:, 1])\n",
    "linear_f_hat = partial(template_g, [reg.intercept_, reg.coef_[0]])"
   ]
  },
  {
   "cell_type": "code",
   "execution_count": 16,
   "metadata": {
    "collapsed": true
   },
   "outputs": [],
   "source": [
    "f_star = partial(template_g, [mu_c, mu_b, mu_a] )"
   ]
  },
  {
   "cell_type": "code",
   "execution_count": 17,
   "metadata": {
    "collapsed": false
   },
   "outputs": [
    {
     "name": "stdout",
     "output_type": "stream",
     "text": [
      "Risk : 10.096445683564331\n",
      "MC Risk:  10.096445683564331\n",
      "Empirical Risk:  7.64722440829373\n"
     ]
    }
   ],
   "source": [
    "linear_f_tilde_risk = linear_function_risk(reg_sgd.coef_[0], reg_sgd.intercept_[0])\n",
    "print('Risk :' , linear_f_tilde_risk)\n",
    "mc_linear_f_tilde_risk = estimate_risk( linear_f_tilde ) \n",
    "print('MC Risk: ', linear_f_tilde_risk)\n",
    "linear_f_tilde_empirical_risk = empirical_risk(linear_f_tilde, data)\n",
    "print('Empirical Risk: ', linear_f_tilde_empirical_risk)"
   ]
  },
  {
   "cell_type": "markdown",
   "metadata": {},
   "source": [
    "Let's visualize $\\ \\ f^*_\\mathcal{H}$ on the dataset"
   ]
  },
  {
   "cell_type": "code",
   "execution_count": 18,
   "metadata": {
    "collapsed": false
   },
   "outputs": [
    {
     "data": {
      "image/png": "[encoded data removed]",
      "text/plain": [
       "<Figure size 1440x720 with 1 Axes>"
      ]
     },
     "metadata": {},
     "output_type": "display_data"
    }
   ],
   "source": [
    "plot_prediction_function([linear_f_star, linear_f_hat, linear_f_tilde, f_star], \n",
    "                         ['$f^*_\\mathcal{H}$', '$\\hat{f}_\\mathcal{H}$', '$\\tilde{f_\\mathcal{H}}$', '$f^*$'], \n",
    "                         data, alpha = 1)"
   ]
  },
  {
   "cell_type": "markdown",
   "metadata": {},
   "source": [
    "### Exercise:\n",
    "What is the optimization error? How do you expect it to change with the number of iterations of gradient descent?"
   ]
  },
  {
   "cell_type": "markdown",
   "metadata": {},
   "source": [
    "Answer: As number if iterations increase, optimization error will reduce. "
   ]
  }
 ],
 "metadata": {
  "anaconda-cloud": {},
  "kernelspec": {
   "display_name": "Python [conda env:py36]",
   "language": "python",
   "name": "conda-env-py36-py"
  },
  "language_info": {
   "codemirror_mode": {
    "name": "ipython",
    "version": 3
   },
   "file_extension": ".py",
   "mimetype": "text/x-python",
   "name": "python",
   "nbconvert_exporter": "python",
   "pygments_lexer": "ipython3",
   "version": "3.6.7"
  }
 },
 "nbformat": 4,
 "nbformat_minor": 1
}
