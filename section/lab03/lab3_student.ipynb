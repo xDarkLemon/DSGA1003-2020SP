{
 "cells": [
  {
   "cell_type": "markdown",
   "metadata": {},
   "source": [
    "# DS-GA 1003, Spring 2020, Section 3\n",
    "# Gradient Descent\n",
    "\n",
    "Artie Shen, CDS"
   ]
  },
  {
   "cell_type": "markdown",
   "metadata": {},
   "source": [
    "In this lab, you will learn to:\n",
    "\n",
    "- use Python to compute the gradient for two simple functions\n",
    "- how to empirically check the correctness of your gradient computation\n",
    "- implement a naive gradient descent algorithm \n",
    "- apply the algorithm on the UCI Automobile MPG dataset"
   ]
  },
  {
   "cell_type": "markdown",
   "metadata": {},
   "source": [
    "## 1. Computing Gradients\n",
    "\n",
    "Most numerical optimization methods require that we compute gradients of the loss function that we are attempting to minimize.  \n",
    "\n",
    "In this section, we illustrate how to compute gradients efficiently in python for a few simple examples.  "
   ]
  },
  {
   "cell_type": "code",
   "execution_count": 27,
   "metadata": {
    "collapsed": true
   },
   "outputs": [],
   "source": [
    "import numpy as np\n",
    "import matplotlib.pyplot as plt\n",
    "import pandas as pd\n",
    "%matplotlib inline\n",
    "from sklearn import preprocessing"
   ]
  },
  {
   "cell_type": "markdown",
   "metadata": {},
   "source": [
    "### 1.1 Example 1: simple vector function\n",
    "\n",
    "Let's consider a simple function:\n",
    "\n",
    "$$f(\\mathbf{\\theta}) = \\theta_0^2 + 2\\theta_0 \\theta_1^3$$ \n",
    "\n",
    "The gradient of this function can be computed as following:\n",
    "\n",
    "$$\\frac{\\partial}{\\partial \\theta_0} = 2\\theta_0 + 2\\theta_1^3$$\n",
    "\n",
    "$$\\frac{\\partial}{\\partial \\theta_1} = 6\\theta_0\\theta_1^2$$\n",
    "\n",
    "$$\\nabla f(\\mathbf{\\theta}) = \\begin{bmatrix} 2\\theta_0 + 2\\theta_1^3 \\\\ 6\\theta_0\\theta_1^2 \\end{bmatrix}$$\n",
    "\n"
   ]
  },
  {
   "cell_type": "code",
   "execution_count": 28,
   "metadata": {
    "collapsed": false
   },
   "outputs": [],
   "source": [
    "def simple_vector_func(theta):\n",
    "    \"\"\"\n",
    "    Function that returns the value and gradient for a given theta vector\n",
    "    @param theta: 2d numpy array [theta_0, theta_1]\n",
    "    @out: f(\\theta), gradient of f(\\theta)\n",
    "    \"\"\"\n",
    "    # unpack vector\n",
    "    theta_0, theta_1 = theta\n",
    "    \n",
    "    # compute the value\n",
    "    y_val = np.power(theta_0,2) + 2*theta_0* np.power(theta_1,3)\n",
    "\n",
    "    # compute the gradient\n",
    "    gradient_theta0 = 2*theta_0 + 2*np.power(theta_1,3)\n",
    "    gradient_theta1 = 6*theta_0*np.power(theta_1,2)\n",
    "    gradient = np.array([gradient_theta0, gradient_theta1])\n",
    "    return y_val, gradient"
   ]
  },
  {
   "cell_type": "markdown",
   "metadata": {},
   "source": [
    "Let's run this function for some random $\\theta$."
   ]
  },
  {
   "cell_type": "code",
   "execution_count": 29,
   "metadata": {
    "collapsed": false
   },
   "outputs": [
    {
     "name": "stdout",
     "output_type": "stream",
     "text": [
      "y_val=112, grad=[ 58 108]\n"
     ]
    }
   ],
   "source": [
    "theta = np.array([2,3])\n",
    "y_val, grad = simple_vector_func(theta)\n",
    "print(\"y_val={0}, grad={1}\".format(y_val, grad))"
   ]
  },
  {
   "cell_type": "markdown",
   "metadata": {},
   "source": [
    "### 1.2 Example 2: least squares\n",
    "\n",
    "Say that we have a linear model \n",
    "\n",
    "$$f(\\mathbf{x}) = \\theta \\cdot \\mathbf{x} = \\theta_1 x_1 + \\theta_2 x_2 + ... + \\theta_d x_d$$\n",
    "\n",
    "for a data point $\\mathbf{x}_i \\in \\mathbb{R}^d$ and a parameter set $\\theta \\in \\mathbb{R}^d$.\n",
    "\n",
    "Now, given a single label $y_i \\in \\mathbb{R}$, we want to calcuate the $l_2$ loss:\n",
    "\n",
    "$$J(\\theta) = |f(\\mathbf{x}) - y|_2^2$$\n",
    "\n",
    "So what is the gradient of $J(\\theta)$?\n",
    "\n",
    "$$\\nabla J(\\theta) = 2\\mathbf{x}(\\mathbf{x} \\cdot \\mathbf{\\theta} - y)$$"
   ]
  },
  {
   "cell_type": "code",
   "execution_count": 30,
   "metadata": {
    "collapsed": true
   },
   "outputs": [],
   "source": [
    "def l2_loss_linear_func(theta, x, y):\n",
    "    \"\"\"\n",
    "    Function that returns the value and gradient for a given theta vector\n",
    "    @param theta: nd numpy array [theta_1, theta_2, ..., theta_n]\n",
    "    @param x: same dimension as theta\n",
    "    #param y: a real number\n",
    "    @out: f(\\theta), gradient of f(\\theta)\n",
    "    \"\"\"\n",
    "    # compute the value\n",
    "    y_val = np.power(np.dot(theta, x) - y, 2)\n",
    "\n",
    "    # compute the gradient\n",
    "    gradient = 2 * x * (np.dot(theta,x) - y)\n",
    "    return y_val, gradient"
   ]
  },
  {
   "cell_type": "code",
   "execution_count": 31,
   "metadata": {
    "collapsed": false
   },
   "outputs": [
    {
     "name": "stdout",
     "output_type": "stream",
     "text": [
      "y_val=1936, grad=[ -88 -176 -264 -352 -440]\n"
     ]
    }
   ],
   "source": [
    "theta = np.array([1,2,3,4,5])\n",
    "x_i = np.array([1,2,3,4,5])\n",
    "y_i = 99\n",
    "y_val, grad = l2_loss_linear_func(theta, x_i, y_i)\n",
    "print(\"y_val={0}, grad={1}\".format(y_val, grad))"
   ]
  },
  {
   "cell_type": "markdown",
   "metadata": {},
   "source": [
    "### 1.3 Testing the gradient\n",
    "\n",
    "So far we have worked with relatively simple functions where it is straight-forward to compute the gradient. For more complex functions, the gradient computation can be notoriously difficult to debug and get right.\n",
    "\n",
    "It is very important to test if the gradient is correct. Recall the mathematical definition of the derivative as:\n",
    "$$ \\frac{\\partial}{\\partial \\theta} f(\\theta) = \\text{lim}_{\\epsilon \\to 0} \\frac{f(\\theta + \\epsilon) - f(\\theta - \\epsilon) }{2 \\epsilon}$$\n",
    "\n",
    "We can approximate the gradient (left hand side) using the equation on the right hand side by setting $\\epsilon$ to a small constant, say around $10^{−4}$.\n",
    "\n",
    "Now let's expand this method to deal with vector input $\\theta \\in \\mathbb{R}^d$. Let's say we want to verify out gradient at demension $i$ $(\\nabla f(\\theta))_i$. We can make use of one-hot vector $e_i$ in which all dimension except the $i$th are 0 and the $i$th dimension has a value of 1: \n",
    "\n",
    "$$e_i = \\begin{bmatrix} 0\\\\ 0\\\\ ...\\\\ 1\\\\ ... \\\\0 \\end{bmatrix}$$\n",
    "\n",
    "The gradient at $i$th dimension can be then approximated as \n",
    "\n",
    "$$ [\\nabla f(\\theta)]^{(i)} \\approx \\frac{f(\\theta + \\epsilon e_i)-f(\\theta - \\epsilon e_i)}{2 \\epsilon} $$\n",
    "\n",
    "We can then calculate the approximation for all dimension.\n",
    "\n",
    "\n",
    "More information about the gradient checker can be found at http://deeplearning.stanford.edu/tutorial/supervised/DebuggingGradientChecking/."
   ]
  },
  {
   "cell_type": "markdown",
   "metadata": {},
   "source": [
    "**Coding Exercise**: implement the gradient checker."
   ]
  },
  {
   "cell_type": "code",
   "execution_count": 32,
   "metadata": {
    "collapsed": true
   },
   "outputs": [],
   "source": [
    "def approxiate_gradient(f_theta, theta, epsilon=1e-5):\n",
    "    \"\"\"\n",
    "    Function that performs the gradient approximation using the above logic\n",
    "    @param: f_theta, a function that calculates f(theta) and gradient\n",
    "    @param: theta, a numpy array\n",
    "    @output: the approximated value of the gradient at theta\n",
    "    \"\"\"\n",
    "    n_dim = len(theta)\n",
    "    gradient = np.zeros(n_dim)\n",
    "    \n",
    "    # iterate through all n dimension\n",
    "    for i in range(n_dim):\n",
    "        # construct e_i\n",
    "        e_i = np.zeros(n_dim)\n",
    "        e_i[i] = 1\n",
    "        # calcualte f(theta+epsilon) and f(theta-epsilon)\n",
    "        f_plus, _ = f_theta(theta + e_i * epsilon)\n",
    "        f_minus, _ = f_theta(theta - e_i * epsilon)\n",
    "        # calculate the approximated gradient at dimension i\n",
    "        gradient[i] = (f_plus-f_minus)/(2*epsilon)\n",
    "    return gradient"
   ]
  },
  {
   "cell_type": "markdown",
   "metadata": {},
   "source": [
    "Let's use this function to verify that our gradient calculation in the two examples above is correct."
   ]
  },
  {
   "cell_type": "code",
   "execution_count": 33,
   "metadata": {
    "collapsed": false
   },
   "outputs": [
    {
     "name": "stdout",
     "output_type": "stream",
     "text": [
      "Gradient (calculated by hand):  [ 58 108]\n",
      "Gradient (approximated):  [ 58. 108.]\n"
     ]
    }
   ],
   "source": [
    "theta = np.array([2,3])\n",
    "_, grad = simple_vector_func(theta)\n",
    "grad_approx = approxiate_gradient(simple_vector_func, theta)\n",
    "print(\"Gradient (calculated by hand): \", grad)\n",
    "print(\"Gradient (approximated): \", grad_approx)"
   ]
  },
  {
   "cell_type": "code",
   "execution_count": 34,
   "metadata": {
    "collapsed": false
   },
   "outputs": [
    {
     "name": "stdout",
     "output_type": "stream",
     "text": [
      "Gradient (calculated by hand):  [ -88 -176 -264 -352 -440]\n",
      "Gradient (approximated):  [ -88.00000003 -175.99999999 -264.00000002 -351.99999999 -440.00000001]\n"
     ]
    }
   ],
   "source": [
    "theta = np.array([1,2,3,4,5])\n",
    "x_i = np.array([1,2,3,4,5])\n",
    "y_i = 99\n",
    "y_val, grad = l2_loss_linear_func(theta, x_i, y_i)\n",
    "# here because l2_loss_linear_func also takes in x_i and y_i\n",
    "# we need to use lambda to wrap the value of x_i and y_i\n",
    "grad_approx = approxiate_gradient(lambda theta: l2_loss_linear_func(theta, x_i, y_i), theta)\n",
    "print(\"Gradient (calculated by hand): \", grad)\n",
    "print(\"Gradient (approximated): \", grad_approx)"
   ]
  },
  {
   "cell_type": "markdown",
   "metadata": {},
   "source": [
    "## 2. Gradient Descent\n",
    "\n",
    "Now that we know how to calculate and verify the gradients, let's code up a gradient decendent function. We will use the slide in lab2 as the reference.\n",
    "\n",
    "For simplicity, let's assume that we are using a fixed learning rate and our termination condition is terminating at a fixed number of iterations."
   ]
  },
  {
   "cell_type": "markdown",
   "metadata": {},
   "source": [
    "**Coding Exercise**: implement the gradient descent algorithm."
   ]
  },
  {
   "cell_type": "code",
   "execution_count": 9,
   "metadata": {
    "collapsed": true
   },
   "outputs": [],
   "source": [
    "def gradient_descent(f_theta, theta_0, lr=1e-3, n_iteration=1000):\n",
    "    \"\"\"\n",
    "    Simple gradient descent optimization\n",
    "    @param f_theta: a function that returns f(x) and its gradient\n",
    "    @param theta_0: initial estimate\n",
    "    @param lr: learning rate\n",
    "    @param n_iteration: number of iterations\n",
    "    \"\"\"\n",
    "    # create history dictionary for tracking progress per iteration.\n",
    "    hist = {'theta': [], 'f_theta': []}\n",
    "    \n",
    "    # initialize theta_0\n",
    "    theta_i =  theta_0\n",
    "    \n",
    "    # loop over iterations\n",
    "    for i in range(n_iteration):\n",
    "        # calculate the gradient\n",
    "        f_val, f_grad = f_theta(theta_i)\n",
    "        \n",
    "        # save history\n",
    "        hist['theta'].append(theta_i)\n",
    "        hist['f_theta'].append(f_val)\n",
    "        \n",
    "        # update\n",
    "        theta_i = theta_i - lr * f_grad\n",
    "    return theta_i, hist"
   ]
  },
  {
   "cell_type": "markdown",
   "metadata": {},
   "source": [
    "Let's test our implementation on a very simple example:\n",
    "\n",
    "$$f(\\theta) = \\theta^2 - 2 \\theta + 1$$\n",
    "\n",
    "where $\\theta \\in \\mathbb{R}$ is a real number.\n",
    "\n",
    "We know that\n",
    "\n",
    "$$\\theta^* = \\text{argmin}_{\\theta} f(\\theta) = 1$$"
   ]
  },
  {
   "cell_type": "code",
   "execution_count": 10,
   "metadata": {
    "collapsed": false
   },
   "outputs": [
    {
     "name": "stdout",
     "output_type": "stream",
     "text": [
      "Initial theta = -0.2962179037136742, Optimal theta_star = 0.9999999978185078\n"
     ]
    }
   ],
   "source": [
    "f_quad = lambda theta: (np.power(theta,2)-2*theta+1, 2*theta-2)\n",
    "theta_init = np.random.randn()\n",
    "theta_star, hist = gradient_descent(f_quad, theta_init, lr=1e-2)\n",
    "print(\"Initial theta = {0}, Optimal theta_star = {1}\".format(theta_init,theta_star))"
   ]
  },
  {
   "cell_type": "markdown",
   "metadata": {},
   "source": [
    "Let visualize how gradient descent decreases the function value at each iteration."
   ]
  },
  {
   "cell_type": "code",
   "execution_count": 11,
   "metadata": {
    "collapsed": false
   },
   "outputs": [
    {
     "data": {
      "image/png": "[encoded data removed]",
      "text/plain": [
       "<Figure size 432x288 with 1 Axes>"
      ]
     },
     "metadata": {},
     "output_type": "display_data"
    }
   ],
   "source": [
    "t = np.arange(1000)\n",
    "plt.semilogx(t, hist['f_theta'])\n",
    "plt.xlabel(\"iteration number\")\n",
    "plt.ylabel(\"$f( \\theta )$\")\n",
    "plt.grid()"
   ]
  },
  {
   "cell_type": "code",
   "execution_count": 12,
   "metadata": {
    "collapsed": false
   },
   "outputs": [
    {
     "data": {
      "image/png": "[encoded data removed]",
      "text/plain": [
       "<Figure size 432x288 with 1 Axes>"
      ]
     },
     "metadata": {},
     "output_type": "display_data"
    }
   ],
   "source": [
    "t = np.arange(1000)\n",
    "plt.semilogx(t, hist['theta'])\n",
    "plt.xlabel(\"iteration number\")\n",
    "plt.ylabel(\"theta\")\n",
    "plt.grid()"
   ]
  },
  {
   "cell_type": "markdown",
   "metadata": {},
   "source": [
    "### 2.1 Impact of learning rate\n",
    "\n",
    "In the previous example, we use a fixed learning rate through all iterations. The choice of learning rate has a very significant impact on the result. In the code block below, we run the optimization using 4 different learning rate."
   ]
  },
  {
   "cell_type": "code",
   "execution_count": 13,
   "metadata": {
    "collapsed": false
   },
   "outputs": [
    {
     "name": "stdout",
     "output_type": "stream",
     "text": [
      "lr = 1, theta* = 12, f(theta*) = 121\n",
      "lr = 0.1, theta* = 0.9999999999999998, f(theta*) = 0.0\n",
      "lr = 0.01, theta* = 0.99999998110955, f(theta*) = 3.3306690738754696e-16\n",
      "lr = 0.001, theta* = -0.4886871211558325, f(theta*) = 2.2161893446952403\n",
      "lr = 0.0001, theta* = -8.007659672808668, f(theta*) = 81.13793278114355\n"
     ]
    },
    {
     "data": {
      "image/png": "[encoded data removed]",
      "text/plain": [
       "<Figure size 432x288 with 1 Axes>"
      ]
     },
     "metadata": {},
     "output_type": "display_data"
    }
   ],
   "source": [
    "lr_list = [1, 0.1, 0.01, 0.001, 0.0001]\n",
    "theta_init = -10\n",
    "\n",
    "for lr in lr_list:\n",
    "    # run the optimizer\n",
    "    theta_star, hist = gradient_descent(f_quad, theta_init, lr)   \n",
    "    # plot the learning curve\n",
    "    plt.semilogx(np.arange(1000), hist['theta'], label=str(lr))\n",
    "    plt.xlabel(\"iteration number\")\n",
    "    plt.ylabel(\"theta\")\n",
    "    # report \n",
    "    print(\"lr = {0}, theta* = {1}, f(theta*) = {2}\".format(lr, hist[\"theta\"][-1], hist[\"f_theta\"][-1]))\n",
    "    \n",
    "plt.grid()\n",
    "plt.legend(loc='upper right')\n",
    "plt.show()"
   ]
  },
  {
   "cell_type": "markdown",
   "metadata": {},
   "source": [
    "Question: How does the output looks like when the learning rate is too large/small? Why?"
   ]
  },
  {
   "cell_type": "markdown",
   "metadata": {},
   "source": [
    "From the plot above, we know that gradient descent gives us bad results if the learning rate is too large/small. Can we improve the result by letting the algorithm to adjust the learning rate during each iteration?"
   ]
  },
  {
   "cell_type": "markdown",
   "metadata": {},
   "source": [
    "**Coding Exercise**: implement the gradient descent algorithm with the Armijo's rule introduced in the slides."
   ]
  },
  {
   "cell_type": "code",
   "execution_count": 14,
   "metadata": {
    "collapsed": true
   },
   "outputs": [],
   "source": [
    "def gradient_descent_armijo(f_theta, theta_0, lr=1e-3, n_iteration=1000):\n",
    "    \"\"\"\n",
    "    Simple gradient descent optimization with learning rate adjusted using Armijo's rule\n",
    "    @param f_theta: a function that returns f(x) and its gradient\n",
    "    @param theta_0: initial estimate\n",
    "    @param lr: learning rate\n",
    "    @param n_iteration: number of iterations\n",
    "    \"\"\"\n",
    "    # create history dictionary for tracking progress per iteration.\n",
    "    hist = {'lr':[], 'theta': [], 'f_theta': []}\n",
    "    \n",
    "    # initialize theta_0\n",
    "    theta_i =  theta_0\n",
    "    \n",
    "    # loop over iterations\n",
    "    for i in range(n_iteration):\n",
    "        # calculate the gradient\n",
    "        f_val, f_grad = f_theta(theta_i)\n",
    "        \n",
    "        # calculate the next theta with this gradient\n",
    "        theta_i_plus_1 = theta_i - lr * f_grad\n",
    "        f_val_next, _ = f_theta(theta_i_plus_1)\n",
    "        \n",
    "        # calculate the required improvement\n",
    "        if isinstance(f_grad, np.ndarray):\n",
    "            df_est = lr*f_grad.dot(f_grad)\n",
    "        else:\n",
    "            df_est = lr*f_grad*f_grad\n",
    "        \n",
    "        # if the improvement is significant, perform the update and increase learning rate\n",
    "        if (f_val_next < f_val - 0.5*df_est):\n",
    "            lr *= 2\n",
    "            accept = True\n",
    "        # if the improvement is insignificant, don't do the update and decrease learning rate\n",
    "        else:\n",
    "            lr /= 2 \n",
    "            accept = False\n",
    "        \n",
    "        if accept:\n",
    "            # do update\n",
    "            theta_i = theta_i - lr * f_grad\n",
    "            # save history\n",
    "            hist['theta'].append(theta_i)\n",
    "            hist['f_theta'].append(f_val)\n",
    "            hist['lr'].append(lr)\n",
    "    return theta_i, hist"
   ]
  },
  {
   "cell_type": "markdown",
   "metadata": {},
   "source": [
    "Now let's see if the improved gradient descent can work for initial learning rate that are too large/small."
   ]
  },
  {
   "cell_type": "code",
   "execution_count": 15,
   "metadata": {
    "collapsed": false
   },
   "outputs": [
    {
     "name": "stderr",
     "output_type": "stream",
     "text": [
      "/Users/Melancardie/anaconda2/envs/py36/lib/python3.6/site-packages/matplotlib/ticker.py:2241: UserWarning: Data has no positive values, and therefore cannot be log-scaled.\n",
      "  \"Data has no positive values, and therefore cannot be \"\n"
     ]
    },
    {
     "name": "stdout",
     "output_type": "stream",
     "text": [
      "lr = 1, theta* = 1.0, f(theta*) = 121\n",
      "lr = 0.1, theta* = 1.0000000081690243, f(theta*) = 2.220446049250313e-16\n",
      "lr = 0.01, theta* = 1.0000000101838715, f(theta*) = 1.3322676295501878e-15\n",
      "lr = 0.001, theta* = 1.0000000006143954, f(theta*) = 6.661338147750939e-16\n",
      "lr = 0.0001, theta* = 0.9999999978166156, f(theta*) = 1.1102230246251565e-16\n"
     ]
    },
    {
     "data": {
      "image/png": "[encoded data removed]",
      "text/plain": [
       "<Figure size 432x288 with 1 Axes>"
      ]
     },
     "metadata": {},
     "output_type": "display_data"
    }
   ],
   "source": [
    "lr_list = [1, 0.1, 0.01, 0.001, 0.0001]\n",
    "theta_init = -10\n",
    "\n",
    "for lr in lr_list:\n",
    "    # run the optimizer\n",
    "    theta_star, hist = gradient_descent_armijo(f_quad, theta_init, lr)   \n",
    "    # plot the learning curve\n",
    "    plt.semilogx(np.arange(len(hist['f_theta'])), hist['f_theta'], label=str(lr))\n",
    "    plt.xlabel(\"iteration number\")\n",
    "    plt.ylabel(\"f(theta)\")\n",
    "    # report \n",
    "    print(\"lr = {0}, theta* = {1}, f(theta*) = {2}\".format(lr, hist[\"theta\"][-1], hist[\"f_theta\"][-1]))\n",
    "    \n",
    "plt.grid()\n",
    "plt.legend(loc='lower right')\n",
    "plt.show()"
   ]
  },
  {
   "cell_type": "markdown",
   "metadata": {},
   "source": [
    "## 3. Application: linear regression on the Automobile mpg dataset\n",
    "\n",
    "In this part, we will use the gradient descent algorithm to optimize a linear regression model on the Automobile mpg dataset. This dataset is a survey of cars to determine the relation of mpg to engine characteristics.  The data can be found in the UCI library:\n",
    "https://archive.ics.uci.edu/ml/machine-learning-databases/auto-mpg."
   ]
  },
  {
   "cell_type": "code",
   "execution_count": 16,
   "metadata": {
    "collapsed": true
   },
   "outputs": [],
   "source": [
    "from sklearn.linear_model import LinearRegression"
   ]
  },
  {
   "cell_type": "markdown",
   "metadata": {},
   "source": [
    "We first load the dataset into a dataframe."
   ]
  },
  {
   "cell_type": "code",
   "execution_count": 17,
   "metadata": {
    "collapsed": true
   },
   "outputs": [],
   "source": [
    "names = ['mpg', 'cylinders','displacement', 'horsepower', \n",
    "         'weight', 'acceleration', 'model year', 'origin', 'car name']\n",
    "df = pd.read_csv('https://archive.ics.uci.edu/ml/machine-learning-databases/'+\n",
    "                 'auto-mpg/auto-mpg.data',\n",
    "                 header=None,delim_whitespace=True,names=names,na_values='?')"
   ]
  },
  {
   "cell_type": "markdown",
   "metadata": {},
   "source": [
    "In this part, we would like to use the **horsepower**, **weight**, and **displacement** of a car to predict its mile per gallon (**mpg**). Let's extract columns that are relevant to this task and perform some basic standarization."
   ]
  },
  {
   "cell_type": "code",
   "execution_count": 18,
   "metadata": {
    "collapsed": true
   },
   "outputs": [],
   "source": [
    "need_df = df[[\"mpg\", \"horsepower\", \"weight\", \"displacement\"]].dropna()\n",
    "need_df[\"horsepower\"] = (need_df[\"horsepower\"]-np.mean(need_df[\"horsepower\"]))/np.std(need_df[\"horsepower\"]) \n",
    "need_df[\"weight\"] = (need_df[\"weight\"]-np.mean(need_df[\"weight\"]))/np.std(need_df[\"weight\"])\n",
    "need_df[\"displacement\"] = (need_df[\"displacement\"]-np.mean(need_df[\"displacement\"]))/np.std(need_df[\"displacement\"])\n",
    "need_df[\"mpg\"] = (need_df[\"mpg\"]-np.mean(need_df[\"mpg\"]))/np.std(need_df[\"mpg\"]) "
   ]
  },
  {
   "cell_type": "code",
   "execution_count": 19,
   "metadata": {
    "collapsed": false
   },
   "outputs": [
    {
     "name": "stdout",
     "output_type": "stream",
     "text": [
      "(392, 3)\n",
      "(392,)\n"
     ]
    }
   ],
   "source": [
    "X = need_df.drop(columns=[\"mpg\"]).values\n",
    "Y = need_df[\"mpg\"].values\n",
    "print(X.shape)\n",
    "print(Y.shape)"
   ]
  },
  {
   "cell_type": "markdown",
   "metadata": {},
   "source": [
    "To formulate our problem, we would like find $\\mathbf{\\theta}^*=\\begin{bmatrix} \\theta_h^* \\\\ \\theta_w^* \\\\ \\theta_d^* \\end{bmatrix}$ that minimizes the training error \n",
    "$$\\hat{J}(\\mathbf{\\theta})=\\frac{1}{n} \\sum_{i}^n (\\theta \\cdot \\mathbf{x}_i - y_i)^2 $$\n",
    "\n",
    "for all $(\\mathbf{x}_i, y_i) \\in \\mathcal{D}_n$, where $\\mathbf{x}_i \\in \\mathbb{R}^3$, $y_i \\in \\mathbb{R}$ and $\\mathcal{D}_n$ is our training data. For the purpose of this lab, we only care about the training error. Let's assume that we don't use any intercept."
   ]
  },
  {
   "cell_type": "markdown",
   "metadata": {},
   "source": [
    "Let's first use Sklearn to perform the linear regression."
   ]
  },
  {
   "cell_type": "code",
   "execution_count": 20,
   "metadata": {
    "collapsed": false
   },
   "outputs": [
    {
     "name": "stdout",
     "output_type": "stream",
     "text": [
      "0.0 [-0.20552013 -0.58240258 -0.07734423]\n"
     ]
    }
   ],
   "source": [
    "reg = LinearRegression(fit_intercept=False)\n",
    "reg.fit(X,Y)\n",
    "print(reg.intercept_, reg.coef_)"
   ]
  },
  {
   "cell_type": "code",
   "execution_count": 21,
   "metadata": {
    "collapsed": false
   },
   "outputs": [
    {
     "name": "stdout",
     "output_type": "stream",
     "text": [
      "0.2930445306555292\n"
     ]
    }
   ],
   "source": [
    "pred = reg.predict(X)\n",
    "training_error = np.mean(np.square(pred-Y))\n",
    "print(training_error)"
   ]
  },
  {
   "cell_type": "markdown",
   "metadata": {},
   "source": [
    "Now let's define a function ``mpg_l2_loss`` that takes in a $\\theta \\in \\mathbb{R}^3$ and calculate $J(\\theta)$ and $\\nabla J(\\theta)$.\n",
    "\n",
    "Remember that:\n",
    "\n",
    "$$\\nabla \\hat{J}(\\theta) = \\frac{1}{n}2X^T(X\\theta - Y)$$\n",
    "\n",
    "where $X \\in \\mathbb{R}^{n \\times 3}$ denotes the training set and $Y \\in \\mathbb{R}^{n}$ denotes the training label."
   ]
  },
  {
   "cell_type": "markdown",
   "metadata": {},
   "source": [
    "**Coding Exercise**: code up the function that calculate the l2 loss and gradient of it on the mpg dataset."
   ]
  },
  {
   "cell_type": "code",
   "execution_count": 22,
   "metadata": {
    "collapsed": true
   },
   "outputs": [],
   "source": [
    "def mpg_l2_loss(theta, X=X, Y=Y):\n",
    "    \"\"\"\n",
    "    Function that calculate the l2 loss on the mpg dataset\n",
    "    @param theta: a numpy array with 3 elements\n",
    "    @param X, Y: use the default value\n",
    "    @return: the mean l2 loss over the dataset, the gradient \n",
    "    \"\"\"\n",
    "    n, _ = X.shape\n",
    "    pred = np.dot(X, theta)\n",
    "    loss_val = np.mean(np.square(pred-Y))\n",
    "    grad = 2 * np.matmul(X.T, (np.matmul(X,theta) - Y)) / n\n",
    "    return loss_val, grad"
   ]
  },
  {
   "cell_type": "markdown",
   "metadata": {},
   "source": [
    "Let's apply our gradient descent implemention on this dataset."
   ]
  },
  {
   "cell_type": "code",
   "execution_count": 23,
   "metadata": {
    "collapsed": false
   },
   "outputs": [],
   "source": [
    "theta_init = np.random.randn(3)\n",
    "lr = 1e-3\n",
    "theta_star, hist = gradient_descent_armijo(mpg_l2_loss, theta_init, lr) "
   ]
  },
  {
   "cell_type": "code",
   "execution_count": 24,
   "metadata": {
    "collapsed": false
   },
   "outputs": [
    {
     "name": "stdout",
     "output_type": "stream",
     "text": [
      "Our GD gives parameter: [-0.20552009 -0.58240248 -0.07734437]\n",
      "Sklearn's parameter: [-0.20552013 -0.58240258 -0.07734423]\n"
     ]
    }
   ],
   "source": [
    "print(\"Our GD gives parameter:\", theta_star)\n",
    "print(\"Sklearn's parameter:\", reg.coef_)"
   ]
  },
  {
   "cell_type": "code",
   "execution_count": 25,
   "metadata": {
    "collapsed": false
   },
   "outputs": [
    {
     "data": {
      "image/png": "[encoded data removed]",
      "text/plain": [
       "<Figure size 432x288 with 1 Axes>"
      ]
     },
     "metadata": {},
     "output_type": "display_data"
    }
   ],
   "source": [
    "plt.semilogx(np.arange(len(hist['f_theta'])), hist['f_theta'])\n",
    "plt.xlabel(\"iteration number\")\n",
    "plt.ylabel(\"$f( \\theta )$\")\n",
    "plt.grid()"
   ]
  },
  {
   "cell_type": "code",
   "execution_count": 26,
   "metadata": {
    "collapsed": false
   },
   "outputs": [
    {
     "data": {
      "image/png": "[encoded data removed]",
      "text/plain": [
       "<Figure size 432x288 with 1 Axes>"
      ]
     },
     "metadata": {},
     "output_type": "display_data"
    }
   ],
   "source": [
    "plt.semilogx(np.arange(len(hist['lr'])), hist['lr'])\n",
    "plt.xlabel(\"iteration number\")\n",
    "plt.ylabel(\"learning rate\")\n",
    "plt.grid()"
   ]
  }
 ],
 "metadata": {
  "anaconda-cloud": {},
  "kernelspec": {
   "display_name": "Python [conda env:py36]",
   "language": "python",
   "name": "conda-env-py36-py"
  },
  "language_info": {
   "codemirror_mode": {
    "name": "ipython",
    "version": 3
   },
   "file_extension": ".py",
   "mimetype": "text/x-python",
   "name": "python",
   "nbconvert_exporter": "python",
   "pygments_lexer": "ipython3",
   "version": "3.6.7"
  }
 },
 "nbformat": 4,
 "nbformat_minor": 1
}
