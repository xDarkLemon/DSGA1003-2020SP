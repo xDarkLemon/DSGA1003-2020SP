{
 "cells": [
  {
   "cell_type": "markdown",
   "metadata": {},
   "source": [
    "# A Minimalist Computation Graph Framework"
   ]
  },
  {
   "cell_type": "markdown",
   "metadata": {},
   "source": [
    "In this notebook we develop a minimalist computation graph framework written in `numpy`.  It was designed and implemented by Philipp Meerkamp, Pierre Garapon, and David Rosenberg."
   ]
  },
  {
   "cell_type": "code",
   "execution_count": 1,
   "metadata": {},
   "outputs": [],
   "source": [
    "import numpy as np\n",
    "from IPython.display import Image"
   ]
  },
  {
   "cell_type": "markdown",
   "metadata": {},
   "source": [
    "## Value Nodes"
   ]
  },
  {
   "cell_type": "markdown",
   "metadata": {},
   "source": [
    "We'll introduce our computation graph framework by way of examples of increasing complexity. We start with a completely trival example by making a computation graph with a single node,  representing a scalar value $x$.  To represent $x$, we'll use a node called a \"value node\", since it takes no input, but its output is the value of $x$.  Later, in machine learning contexts, we'll use nodes of this type to represent inputs, outcomes, and parameters. \n",
    "\n",
    "We will interpret this single-node computation graph as representing the function $f(x)=x$.  Thus the \"graph output\", i.e the scalar-valued output of the function our computation graph represents, is also the scalar $x$.  We will refer to the node whose output is the graph output as the \"graph output node\".  Our computation graphs are only designed to represent scalar-valued functions, since our goal is to find inputs that minimize of maximize the function, and it's not clear what that means for a vector-valued function.\n",
    "\n",
    "We will represent value nodes by instances of the class `ValueNode`, defined below:"
   ]
  },
  {
   "cell_type": "code",
   "execution_count": 2,
   "metadata": {},
   "outputs": [],
   "source": [
    "class ValueNode(object):\n",
    "    \"\"\"Computation graph node having no input but simply holding a value\"\"\"\n",
    "    def __init__(self, node_name):\n",
    "        self.node_name = node_name\n",
    "        self.out = None\n",
    "        self.d_out = None\n",
    "\n",
    "    def forward(self):\n",
    "        self.d_out = np.zeros(self.out.shape)\n",
    "        return self.out\n",
    "\n",
    "    def backward(self):\n",
    "        return self.d_out\n",
    "\n",
    "    def get_predecessors(self):\n",
    "        return []"
   ]
  },
  {
   "cell_type": "markdown",
   "metadata": {},
   "source": [
    "To give a `ValueNode` a particular output value, we directly set it.  It should always be a numpy array. For example, for a scalar value we can set it as follows:"
   ]
  },
  {
   "cell_type": "code",
   "execution_count": 8,
   "metadata": {},
   "outputs": [],
   "source": [
    "x = ValueNode(\"x\")\n",
    "x.out = np.array(3)"
   ]
  },
  {
   "cell_type": "markdown",
   "metadata": {},
   "source": [
    "In backpropagation, we compute the partial derivative of the graph output with respect to the outputs of every node in the graph.  Every node in the graph contains an instance variable called `out`, which is a `numpy` array representing the output of that node.  \n",
    "\n",
    "Every node also has an instance variable `d_out`, which during backpropagation is set to contain the partial derivatives of the graph output with respect to the entries of `out` of the same node.  In general, a variable named `d_X` will be used to represent the derivative of the graph output with respect to `X`.  So if we use $J$ to represent the scalar-valued graph output, as we commonly do, then `d_out`, `d_x`, and `d_y` should be understood to represent $\\frac{\\partial J}{\\partial \\text{out}}$, $\\frac{\\partial J}{\\partial \\text{x}}$, and $\\frac{\\partial J}{\\partial \\text{y}}$, respectively.  In any node, `d_out` will always be a `numpy` array of the same shape as `out`.\n",
    "\n",
    "Backpropagation always starts by setting `d_out` for the graph output node to the scalar `1`, since it is the partial derivative of the graph output with repect to itself.\n",
    "\n",
    "Let's do that for the node in our trivial example.  Note that for a `ValueNode`, the `backward` function just returns `d_out`."
   ]
  },
  {
   "cell_type": "code",
   "execution_count": 4,
   "metadata": {},
   "outputs": [
    {
     "name": "stdout",
     "output_type": "stream",
     "text": [
      "3\n",
      "1\n"
     ]
    }
   ],
   "source": [
    "x = ValueNode(\"x\")\n",
    "x.out = np.array(3) # set the value of x\n",
    "print(x.forward()) # both the node output and the graph output\n",
    "x.d_out = np.array(1) # initialize backpropagation\n",
    "print(x.backward()) # the partial derivative of the graph output w.r.t. the output of x"
   ]
  },
  {
   "cell_type": "markdown",
   "metadata": {},
   "source": [
    "## Implementation of  $f(x)=x^2$"
   ]
  },
  {
   "cell_type": "markdown",
   "metadata": {},
   "source": [
    "Let's now consider our first nontrivial function: $f(x)=x^2$.  We'll write $J=f(x)$ for the value of the graph output.  Below we illustrate a computation graph for this function:"
   ]
  },
  {
   "cell_type": "code",
   "execution_count": 5,
   "metadata": {
    "scrolled": false
   },
   "outputs": [
    {
     "data": {
      "image/png": "[encoded data removed]",
      "text/plain": [
       "<IPython.core.display.Image object>"
      ]
     },
     "execution_count": 5,
     "metadata": {},
     "output_type": "execute_result"
    }
   ],
   "source": [
    "Image(\"figures/comp-graph-xSquared.png\")"
   ]
  },
  {
   "cell_type": "markdown",
   "metadata": {},
   "source": [
    "Note that $f_\\text{in}$ and $x_\\text{out}$ are always equal in this graph, so you may be wondering why we give two separate names.  In more complicated graphs (such as our next example), $x_\\text{out}$ may serve as input to multiple nodes, and we will need to consider what happens when we change $f_\\text{in}$ independently of the other node inputs connected to $x_\\text{out}$.\n",
    "\n",
    "To represent this computation graph in code, we'll use two nodes.  The first node will be the same `ValueNode` `x` defined above.  For the second node, `f`, we'll create a new node type for the squaring computation.  We give the code first, and explain it below:"
   ]
  },
  {
   "cell_type": "code",
   "execution_count": 6,
   "metadata": {},
   "outputs": [],
   "source": [
    "class SquareNode(object):\n",
    "    \"\"\"Node for squaring a scalar\"\"\"\n",
    "    def __init__(self, x, node_name):\n",
    "        \"\"\" \n",
    "        Parameters:\n",
    "        x: a node producing a scalar as a numpy array\n",
    "        node_name: node's name (a string)\n",
    "        \"\"\"\n",
    "        self.node_name = node_name\n",
    "        self.out = None\n",
    "        self.d_out = None\n",
    "        self.x = x # Store a reference to node providing input to this node\n",
    "\n",
    "    def forward(self):\n",
    "        self.out = self.x.out ** 2 # compute and set the node output\n",
    "        self.d_out = np.zeros(self.out.shape)\n",
    "        return self.out\n",
    "\n",
    "    def backward(self):\n",
    "        # Preconditions: self.d_out contains the partial derivatives of the graph output w.r.t. self.out\n",
    "        d_x = self.d_out * 2 * self.x.out # partial of graph output w.r.t. node input x\n",
    "        self.x.d_out += d_x\n",
    "        return self.d_out\n",
    "\n",
    "    def get_predecessors(self):\n",
    "        \"\"\"Get list of node's predecessors\"\"\"\n",
    "        return [self.x]\n"
   ]
  },
  {
   "cell_type": "markdown",
   "metadata": {},
   "source": [
    "Note that in the `SquareNode` object `f`, the instance variables `self.x` and `self.out` correspond to $f_\\text{in}$ and $f_\\text{out}$, respectively, while `self.d_out` corresponds to $\\frac{\\partial J}{\\partial f_\\text{out}}$.\n",
    "\n",
    "Let's walk through the code for `backward`.  First, before `backward` is called, we assume that `self.d_out` contains the value $\\frac{\\partial J}{\\partial f_\\text{out}}$.  In the first line of code of `backward`, we are doing the following computation:\n",
    "\n",
    "$$\n",
    "\\begin{eqnarray*}\n",
    "\\frac{\\partial J}{\\partial f_\\text{in}} & = & \\left(\\frac{\\partial J}{\\partial f_\\text{out}}\\right)\\left(\\frac{\\partial f_\\text{out}}{\\partial f_\\text{in}}\\right)\\\\\n",
    " & = & \\left(\\mathtt{self.d \\underline{\\hphantom{ }} out}\\right)\\left(2\\cdot \\mathtt{self.x.out} \\right)\n",
    "\\end{eqnarray*}\n",
    "$$\n",
    "\n",
    "We store the resulting value in `d_x`.  Next, we increment `self.x.d_out` so that value will contain $\\frac{\\partial{J}}{\\partial{\\mathtt{x_{out}}}}$.   In this particular situation, we could also have just set `self.x.d_out = d_x`, but in cases that the node `self.x` serves as input to multiple nodes, recall that we must add up gradient contributions from all of its children.  We'll revisit this when we get to a more complicated example.\n",
    "\n",
    "Let's now construct the computation graph and evaluate it for a particular input value.  To do this, we construct the `ValueNode` `x`, which will contain our function input, and then `SquareNode` `f`, which gets a reference to `ValueNode` `x`, which essentially \"connects\" the nodes.  To evaluate the graph for a particular value, we first directly set the `out` field of the `ValueNode` `x`.  Then we call `forward` on `x` and then `f`.  After this \"forward pass\", the `out` variable in `f`, the graph output node, will contain the graph output."
   ]
  },
  {
   "cell_type": "code",
   "execution_count": 7,
   "metadata": {},
   "outputs": [
    {
     "data": {
      "text/plain": [
       "49"
      ]
     },
     "execution_count": 7,
     "metadata": {},
     "output_type": "execute_result"
    }
   ],
   "source": [
    "# Construct the computation graph\n",
    "x = ValueNode(\"x\") # a graph input node\n",
    "f = SquareNode(x, \"Squaring Node\")  #graph output node\n",
    "# Set the input value\n",
    "x.out = np.array(7) \n",
    "# Compute a forward pass\n",
    "x.forward() \n",
    "f.forward() # returns the graph output"
   ]
  },
  {
   "cell_type": "markdown",
   "metadata": {},
   "source": [
    "To run backpropagation, we start, as always, by setting `d_out` for the graph output node to be the scalar `1`.  Then we run `backward` on each node in a reverse topological order (i.e. children before parents). "
   ]
  },
  {
   "cell_type": "code",
   "execution_count": 8,
   "metadata": {},
   "outputs": [
    {
     "data": {
      "text/plain": [
       "array(14.0)"
      ]
     },
     "execution_count": 8,
     "metadata": {},
     "output_type": "execute_result"
    }
   ],
   "source": [
    "f.d_out = np.array(1) #initialize backpropagation\n",
    "f.backward()\n",
    "x.backward()"
   ]
  },
  {
   "cell_type": "markdown",
   "metadata": {},
   "source": [
    "Indeed, if we let $J=f(x)=x^2$, then $\\frac{dJ}{dx}=2x$, which is $14$ for $x=7$."
   ]
  },
  {
   "cell_type": "markdown",
   "metadata": {},
   "source": [
    "### Gradient descent with a computation graph"
   ]
  },
  {
   "cell_type": "markdown",
   "metadata": {},
   "source": [
    "Now that we have a computation graph representation of $f(x)$, it's easy to do gradient descent on it.  "
   ]
  },
  {
   "cell_type": "code",
   "execution_count": 9,
   "metadata": {
    "scrolled": false
   },
   "outputs": [
    {
     "name": "stdout",
     "output_type": "stream",
     "text": [
      "x= 3 J(x)= 9\n",
      "x= 1.2 J(x)= 1.44\n",
      "x= 0.48 J(x)= 0.2304\n",
      "x= 0.192 J(x)= 0.036864\n",
      "x= 0.0768 J(x)= 0.00589824\n",
      "x= 0.03072 J(x)= 0.0009437184\n",
      "x= 0.012288 J(x)= 0.000150994944\n",
      "x= 0.0049152 J(x)= 2.415919104e-05\n",
      "x= 0.00196608 J(x)= 3.8654705664e-06\n",
      "x= 0.000786432 J(x)= 6.18475290624e-07\n",
      "x= 0.0003145728 J(x)= 9.89560464998e-08\n",
      "x= 0.00012582912 J(x)= 1.583296744e-08\n",
      "x= 5.0331648e-05 J(x)= 2.5332747904e-09\n",
      "x= 2.01326592e-05 J(x)= 4.05323966463e-10\n",
      "x= 8.05306368e-06 J(x)= 6.48518346341e-11\n"
     ]
    }
   ],
   "source": [
    "obj_vals = []\n",
    "x_vals = []\n",
    "num_steps = 15\n",
    "step_size = .3\n",
    "x.out = np.array(3)  # start gradient descent at x=3\n",
    "for step_num in range(num_steps):\n",
    "    x_vals.append(x.out) # save input values at each step\n",
    "    # Forward pass\n",
    "    x.forward() \n",
    "    J = f.forward() # objective function value (\"graph output\")\n",
    "    print(\"x=\",x.out,\"J(x)=\",J)\n",
    "    obj_vals.append(J) # save objective value at each step\n",
    "    # Backward pass\n",
    "    f.d_out = np.array(1) #initialize backpropagation\n",
    "    f.backward()\n",
    "    x_grad = x.backward() # save gradient w.r.t. x\n",
    "    # Take gradient step\n",
    "    x.out = x.out - step_size * x_grad\n"
   ]
  },
  {
   "cell_type": "markdown",
   "metadata": {},
   "source": [
    "## A Computation Graph with Shared Input"
   ]
  },
  {
   "cell_type": "markdown",
   "metadata": {},
   "source": [
    "Now we'll move on to a somewhat more complicated function: $J(x)=x^2e^x$.  This function is simple enough that we can calculate its derivative directly.  But in the spirit of computation graphs, we'll represent this function by a series of function compositions, which we'll then write as a computation graph.  We'll let\n",
    "\n",
    "$$\n",
    "\\begin{eqnarray*}\n",
    "f(x) & = & x^{2}\\\\\n",
    "g(x) & = & e^{x}\\\\\n",
    "h(x,y) & = & xy\\\\\n",
    "J(x) & = & h(f(x),g(x))\n",
    "\\end{eqnarray*}\n",
    "$$\n",
    "\n",
    "We'll write this as a computation graph with a `ValueNode` for $x$, and regular computation nodes for the functions $f$, $g$, and $h$:"
   ]
  },
  {
   "cell_type": "code",
   "execution_count": 10,
   "metadata": {
    "scrolled": false
   },
   "outputs": [
    {
     "data": {
      "image/png": "[encoded data removed]",
      "text/plain": [
       "<IPython.core.display.Image object>"
      ]
     },
     "execution_count": 10,
     "metadata": {},
     "output_type": "execute_result"
    }
   ],
   "source": [
    "Image(\"./figures/comp-graph-xSqrExpX.png\")"
   ]
  },
  {
   "cell_type": "markdown",
   "metadata": {},
   "source": [
    "Note that nodes `f` and `g` share the input from node `x`.  Being able to handle this stucture is essential for coding more advanced neural network structures, such as convolutional neural networks and recurrent neural networks, though one can avoid it for standard multilayer perceptrons.\n",
    "\n",
    "To implement this computation graph, we need two more node types, which we'll define now and walk through later: "
   ]
  },
  {
   "cell_type": "code",
   "execution_count": 11,
   "metadata": {},
   "outputs": [],
   "source": [
    "class ExpNode(object):\n",
    "    \"\"\"Node for computing e^x for a scalar x\"\"\"\n",
    "    def __init__(self, x, node_name):\n",
    "        \"\"\" \n",
    "        Parameters:\n",
    "        x: a node producing a scalar\n",
    "        node_name: node's name (a string)\n",
    "        \"\"\"\n",
    "        self.node_name = node_name\n",
    "        self.out = None\n",
    "        self.d_out = None\n",
    "        self.x = x # Store a reference to node providing input to this node\n",
    "\n",
    "    def forward(self):\n",
    "        self.out = np.exp(self.x.out) # compute and set the node output\n",
    "        self.d_out = np.zeros(self.out.shape)\n",
    "        return self.out\n",
    "\n",
    "    def backward(self):\n",
    "        # Preconditions: \n",
    "        #   self.out contains the output value of the node, namely e^(x.out)\n",
    "        #   self.d_out contains the partial derivatives of the graph output w.r.t. self.out\n",
    "        d_x = self.d_out * self.out # partial of graph output w.r.t. node input x\n",
    "        self.x.d_out += d_x\n",
    "        return self.d_out\n",
    "\n",
    "    def get_predecessors(self):\n",
    "        \"\"\"Get list of node's predecessors\"\"\"\n",
    "        return [self.x]\n",
    "\n",
    "class ProductNode(object):\n",
    "    \"\"\"Node for computing the product of two scalars\"\"\"\n",
    "    def __init__(self, x, y, node_name):\n",
    "        \"\"\" \n",
    "        Parameters:\n",
    "        x: a node producing a length-1 vector\n",
    "        node_name: node's name (a string)\n",
    "        \"\"\"\n",
    "        self.node_name = node_name\n",
    "        self.out = None\n",
    "        self.d_out = None\n",
    "        self.x = x # Store a reference to node providing input to this node\n",
    "        self.y = y # Store a reference to node providing input to this node\n",
    "\n",
    "    def forward(self):\n",
    "        self.out = self.x.out * self.y.out # compute and set the node output\n",
    "        self.d_out = np.zeros(self.out.shape)\n",
    "        return self.out\n",
    "\n",
    "    def backward(self):\n",
    "        # Preconditions: self.d_out contains the partial derivatives of the graph output w.r.t. self.out\n",
    "        d_x = self.d_out * self.y.out # partial of graph output w.r.t. node input x\n",
    "        d_y = self.d_out * self.x.out\n",
    "        self.x.d_out += d_x\n",
    "        self.y.d_out += d_y\n",
    "        return self.d_out\n",
    "\n",
    "    def get_predecessors(self):\n",
    "        \"\"\"Get list of node's predecessors\"\"\"\n",
    "        return [self.x, self.y]\n"
   ]
  },
  {
   "cell_type": "markdown",
   "metadata": {},
   "source": [
    "We'll now define the computation graph and illustrate a forward pass:"
   ]
  },
  {
   "cell_type": "code",
   "execution_count": 12,
   "metadata": {},
   "outputs": [
    {
     "name": "stdout",
     "output_type": "stream",
     "text": [
      "x =  7\n",
      "f(x) = x^2 =  49\n",
      "g(x) = e^x =  1096.63315843\n",
      "J=h(f(x),g(x)) = x^2 e^x =  53735.024763\n"
     ]
    }
   ],
   "source": [
    "x = ValueNode(\"x\") # the input node\n",
    "f = SquareNode(x, \"Squaring Node\") # Node x produces the input for node f\n",
    "g = ExpNode(x, \"Exponentiation Node\") # Node x produces the input for node g\n",
    "h = ProductNode(f, g, \"Product Node\") # Nodes f and g produce the inputs for node h\n",
    "\n",
    "x.out = np.array(7) #Set the value of the input node\n",
    "# Run the forward pass in topological ordering (parents before children)\n",
    "x.forward()\n",
    "f.forward()\n",
    "g.forward()\n",
    "h.forward() \n",
    "print(\"x = \",x.out)\n",
    "print(\"f(x) = x^2 = \",f.out)\n",
    "print(\"g(x) = e^x = \",g.out)\n",
    "print(\"J=h(f(x),g(x)) = x^2 e^x = \",h.out)"
   ]
  },
  {
   "cell_type": "markdown",
   "metadata": {},
   "source": [
    "In a backward pass, we compute the partial derivative of the graph output $J$ with respect to the output of every node.  We'll illustrate how the backward pass works by showing the calculations we would do by hand, and where in the code the corresopnding computation is carried out.  \n",
    "\n",
    "We start out with $\\frac{\\partial J}{\\partial h_\\text{out}}=1$, which we set directly as the initialization of our backward pass:"
   ]
  },
  {
   "cell_type": "code",
   "execution_count": 13,
   "metadata": {},
   "outputs": [],
   "source": [
    "h.d_out = np.array(1) #initialize backpropagation"
   ]
  },
  {
   "cell_type": "markdown",
   "metadata": {},
   "source": [
    "Working backwards, we now want to compute $\\frac{\\partial J}{\\partial h_{\\text{in}}^{(1)}}$ and $\\frac{\\partial J}{\\partial h_{\\text{in}}^{(2)}}$\n",
    "\n",
    "\n",
    "By the chain rule, we have\n",
    "$$\n",
    "\\begin{eqnarray*}\n",
    "\\frac{\\partial J}{\\partial h_{\\text{in}}^{(1)}} & = & \\left(\\frac{\\partial J}{\\partial h_{\\text{out}}}\\right)\\left(\\frac{\\partial h_{\\text{out}}}{\\partial h_{\\text{in}}^{(1)}}\\right)\\\\\n",
    " & = & \\left(\\frac{\\partial J}{\\partial h_{\\text{out}}}\\right)h_{\\text{in}}^{(2)}.\n",
    "\\end{eqnarray*}\n",
    "$$\n",
    "\n",
    "This is computed when we call `h.backward()`, specifically in the line `d_y = np.multiply(self.d_out, self.x.out)` of the `backward` method in `ProductNode`. `self.d_out` corresponds to $\\frac{\\partial J}{\\partial h_{\\text{out}}}$, which is $1$ in our case, and `self.x.out` is the input corresponding to $h_{\\text{in}}^{(2)}$.  To see the correspondence between `x` and $h_{\\text{in}}^{(2)}$ and between `y` and $h_{\\text{in}}^{(1)}$, you need to look at the construction `h = ProductNode(f, g, \"Product Node\")` and the signature `__init__(self, x, y, node_name)` in `ProductNode`, and also cross-reference with the computation graph diagram.\n",
    "\n",
    "Similarly\n",
    "$$\n",
    "\\begin{eqnarray*}\n",
    "\\frac{\\partial J}{\\partial h_{\\text{in}}^{(2)}} & = & \\left(\\frac{\\partial J}{\\partial h_{\\text{out}}}\\right)h_{\\text{in}}^{(1)} \n",
    "\\end{eqnarray*}\n",
    "$$\n",
    "is implemented in `d_x = np.multiply(self.d_out, self.y.out)`.\n",
    "\n",
    "Next let's compute the partials w.r.t. the output of $f$.  We have\n",
    "$$\\frac{\\partial J}{\\partial f_{\\text{out }}}=\\left(\\frac{\\partial J}{\\partial h_{\\text{in}}^{(2)}}\\right)\\underbrace{\\left(\\frac{\\partial h_{\\text{in}}^{(2)}}{\\partial f_{\\text{out}}}\\right)}_{=1}= \\frac{\\partial J}{\\partial h_{\\text{in}}^{(2)}}\n",
    "$$\n",
    "We set this partial derivative in the code `self.x.d_out += d_x`, also in the `backward` method in `ProductNode`.  Recall that `x` is the local name for the node `f`.  Since `f.d_out` is initialized to `0`, this line of code is equivalent to setting `f.d_out = d_x`.  \n",
    "\n",
    "Similarly, \n",
    "$$\\frac{\\partial J}{\\partial g_{\\text{out }}}=\\left(\\frac{\\partial J}{\\partial h_{\\text{in}}^{(1)}}\\right)\\underbrace{\\left(\\frac{\\partial h_{\\text{in}}^{(1)}}{\\partial g_{\\text{out}}}\\right)}_{=1}=\\frac{\\partial J}{\\partial h_{\\text{in}}^{(1)}},\n",
    "$$\n",
    "is implemented in the line `self.y.d_out += d_y`. \n",
    "\n",
    "We'll now continue the backward pass on $h$ and show how to check the outcome numerically:"
   ]
  },
  {
   "cell_type": "code",
   "execution_count": 14,
   "metadata": {},
   "outputs": [
    {
     "name": "stdout",
     "output_type": "stream",
     "text": [
      "At x= 7  we have f(x)= 49 , g(x)= 1096.63315843 , h(x)= 53735.024763\n",
      "At those values, we have dJ/d[f(x)]= 1096.6331584284585\n"
     ]
    }
   ],
   "source": [
    "h.backward()\n",
    "# Save some values for later\n",
    "f_x = f.out  # store output of f(x) for later\n",
    "J = h.out # store J(f(x),g(x))\n",
    "dJdf = f.d_out\n",
    "print(\"At x=\",x.out,\" we have f(x)=\",f_x,\", g(x)=\",g.out,\", h(x)=\",J)\n",
    "print(\"At those values, we have dJ/d[f(x)]=\",dJdf)"
   ]
  },
  {
   "cell_type": "markdown",
   "metadata": {},
   "source": [
    "### Numerically checking the gradient"
   ]
  },
  {
   "cell_type": "markdown",
   "metadata": {},
   "source": [
    "By definition of gradient, this means that if we change the value of $f(x)$ by a small value $\\delta$, with everything else held fixed, then we would expect the graph output $J$ to change by approximately $\\delta \\frac{\\partial J}{\\partial f(x)}$.  We can check this directly by  manipulating `f.out` and seeing the effect on the graph output `J=h.out`:"
   ]
  },
  {
   "cell_type": "code",
   "execution_count": 15,
   "metadata": {},
   "outputs": [
    {
     "name": "stdout",
     "output_type": "stream",
     "text": [
      "For delta= 7.609501298720907e-07 , J(f(x)+delta, g(x)) - J(f(x),g(x)) =  0.00083448314399\n",
      "First order prediction of J(f(x)+delta, g(x)) - J(f(x),g(x)) =  0.000834483144328\n"
     ]
    }
   ],
   "source": [
    "delta = np.random.randn()/100000  #choose a random perturbation (we can rerun this several times)\n",
    "J_first_order_change = np.dot(delta, dJdf) #predicted change using derivative\n",
    "f.out = f_x + delta # change f.out by delta\n",
    "h.forward() # compute J_new=h(f(x)+delta, g(x))\n",
    "J_new = h.out\n",
    "J_actual_change = J_new - J\n",
    "print(\"For delta=\",delta,\", J(f(x)+delta, g(x)) - J(f(x),g(x)) = \", J_new - J)\n",
    "print(\"First order prediction of J(f(x)+delta, g(x)) - J(f(x),g(x)) = \", J_first_order_change)"
   ]
  },
  {
   "cell_type": "markdown",
   "metadata": {},
   "source": [
    "So we see a close match.  In fact, $J$ changes linearly with $f(x)$, when everything else is held fixed.  So  only numerical error is keeping the two numbers from being exactly equal.  On your own, you can check that `g.d_out` has the correct value for $\\frac{\\partial J}{\\partial g_{\\text{out}}}$. "
   ]
  },
  {
   "cell_type": "markdown",
   "metadata": {},
   "source": [
    "### Back to backprop"
   ]
  },
  {
   "cell_type": "markdown",
   "metadata": {},
   "source": [
    "Next let's  compute $\\frac{\\partial J}{\\partial f_{in}}$.  By the chain rule,\n",
    "$$\n",
    "\\begin{eqnarray*}\n",
    "\\frac{\\partial J}{\\partial f_{\\text{in}}} & = & \\left(\\frac{\\partial J}{\\partial f_{\\text{out}}}\\right)\\left(\\frac{\\partial f_{\\text{out}}}{\\partial f_{\\text{in}}}\\right)\\\\\n",
    " & = & \\left(\\frac{\\partial J}{\\partial f_{\\text{out}}}\\right)\\left(2f_{\\text{in}}\\right)\n",
    "\\end{eqnarray*}\n",
    "$$\n",
    "The pattern should start to be clear: The partial of $J$ w.r.t. the input of a node is the partial w.r.t. the output or a node (which we will already have computed) times the derivative of the function the node is calculating, i.e. $\\frac{\\partial f_{\\text{out}}}{\\partial f_{\\text{in}}}$.\n",
    "\n",
    "The above will be computed when we call `f.backward()`, specifically in the code `d_x = np.multiply(self.d_out, 2 * self.x.out)` in `backward()` of `SquareNode`."
   ]
  },
  {
   "cell_type": "markdown",
   "metadata": {},
   "source": [
    "### Caching results from the forward pass"
   ]
  },
  {
   "cell_type": "markdown",
   "metadata": {},
   "source": [
    "It's much the same for $\\frac{\\partial J}{\\partial g_{\\text{in}}}$:\n",
    "$$\n",
    "\\begin{eqnarray*}\n",
    "\\frac{\\partial J}{\\partial g_{\\text{in}}} & = & \\left(\\frac{\\partial J}{\\partial g_{\\text{out}}}\\right)\\left(\\frac{\\partial g_{\\text{out}}}{\\partial g_{\\text{in}}}\\right)\\\\\n",
    " & = & \\left(\\frac{\\partial J}{\\partial g_{\\text{out}}}\\right)e^{g_{\\text{in}}}\\\\\n",
    " & = & \\left(\\frac{\\partial J}{\\partial g_{\\text{out}}}\\right)g_{\\text{out}}\n",
    "\\end{eqnarray*}\n",
    "$$\n",
    "\n",
    "One interesting thing that happens here is that, in the last line we notice that the derivative of the node function $e^{g_\\text{in}}$ has already been computed and stored, since it's just the output value of the node.  This is a fairly common occurrence and is worth noting: computations that happen during the forward pass are often needed again during the backward pass, so it is worth caching these values in the forward pass so they can be used without recomputation in the backward pass.  In this case, `self.out` happens to be the factor we need in the backward pass. The computation above happens when we call `g.backward()`, specifically in the code `d_x = np.multiply(self.d_out, self.out)` in `backward()` of `SquareNode`.\n",
    "\n",
    "Let's re-run the forward pass from scratch, and then run the backward pass through to `f` and `g`, and pick up the discussion from there."
   ]
  },
  {
   "cell_type": "code",
   "execution_count": 16,
   "metadata": {},
   "outputs": [
    {
     "data": {
      "text/plain": [
       "array(49.0)"
      ]
     },
     "execution_count": 16,
     "metadata": {},
     "output_type": "execute_result"
    }
   ],
   "source": [
    "x.out = np.array(7) #Set the value of the input node\n",
    "# Forward pass -- call forward() on nodes in topological order (parents before children)\n",
    "x.forward()\n",
    "f.forward()  \n",
    "g.forward()\n",
    "h.forward()\n",
    "# Backward pass -- call backward() on nodes in reverse topological order (children before parents)\n",
    "h.d_out = np.array(1) #initialize backpropagation\n",
    "h.backward() \n",
    "f.backward()\n",
    "g.backward()\n"
   ]
  },
  {
   "cell_type": "markdown",
   "metadata": {},
   "source": [
    "### Handling the shared inputs"
   ]
  },
  {
   "cell_type": "markdown",
   "metadata": {},
   "source": [
    "We've finally to the last, and most interesting, step of backpropagation.  As usual, we use the chain rule, although this time we have two paths between input and output to sum over:\n",
    "$$\n",
    "\\begin{eqnarray*}\n",
    "\\frac{\\partial J}{\\partial x_{\\text{out}}} & = & \\frac{\\partial J}{\\partial f_{\\text{in}}}\\underbrace{\\frac{\\partial f_{\\text{in}}}{\\partial x_{\\text{out}}}}_{=1}+\\frac{\\partial J}{\\partial g_{\\text{in}}}\\underbrace{\\frac{\\partial g_{\\text{in}}}{\\partial x_{\\text{out}}}}_{=1}\\\\\n",
    " & = & \\frac{\\partial J}{\\partial f_{\\text{in}}}+\\frac{\\partial J}{\\partial g_{\\text{in}}}\n",
    "\\end{eqnarray*}\n",
    "$$\n",
    "So this is, of course, the sum of two things we have already computed.  The way this happens in code is as follows: During the forwared pass, `x.d_out` is initialized to `0`.  When we call `f.backward()`, the line `self.x.d_out += d_x` in the `SquareNode` class adds $\\frac{\\partial J}{\\partial f_\\text{in}}$, to `x.d_out`. When we call `g.backward()`, the same line `self.x.d_out += d_x` in the `ExpNode` class adds $\\frac{\\partial J}{\\partial g_\\text{in}}$ to `x.d_out`.  Thus after calling backward on `f` and `g`, `x.d_out` indeed has the value $\\frac{\\partial J}{\\partial x_{\\text{out}}}$.  By the time we get to run `backward` on `x`, there's nothing left to do.  Indeed, `x.backward()` just returns `self.d_out`."
   ]
  },
  {
   "cell_type": "markdown",
   "metadata": {},
   "source": [
    "# Automating the forward and backward passes"
   ]
  },
  {
   "cell_type": "markdown",
   "metadata": {},
   "source": [
    "In the demonstrations above, we called the `forward` and `backward` functions on each node manually, and in the correct order.  While this helps ensure one understands all the details, it can easily be automated.  The key is that each node can return a list of its parent nodes through the `get_predecessors` method.  Given the graph output node, we can collect all the ancestors and, moreover, produce a list of these nodes in a topological ordering (each parent coming before its children). The following function does exactly that.  The graph output node is referred to as the *sink node* in this context."
   ]
  },
  {
   "cell_type": "code",
   "execution_count": 17,
   "metadata": {},
   "outputs": [],
   "source": [
    "def sort_topological(sink):\n",
    "    \"\"\"Returns a list of the sink node and all its ancestors in topologically sorted order.\n",
    "    Subgraph of these nodes must form a DAG.\"\"\"\n",
    "    L = [] # Empty list that will contain the sorted nodes\n",
    "    T = set() # Set of temporarily marked nodes\n",
    "    P = set() # Set of permanently marked nodes\n",
    "\n",
    "    def visit(node):\n",
    "        if node in P:\n",
    "            return\n",
    "        if node in T:\n",
    "            raise 'Your graph is not a DAG!'\n",
    "        T.add(node) # mark node temporarily\n",
    "        for predecessor in node.get_predecessors():\n",
    "            visit(predecessor)\n",
    "        P.add(node) # mark node permanently\n",
    "        L.append(node)\n",
    "\n",
    "    visit(sink)\n",
    "    return L\n"
   ]
  },
  {
   "cell_type": "code",
   "execution_count": 18,
   "metadata": {},
   "outputs": [
    {
     "name": "stdout",
     "output_type": "stream",
     "text": [
      "x :   <__main__.ValueNode object at 0x106d128d0>\n",
      "Squaring Node :   <__main__.SquareNode object at 0x106d12898>\n",
      "Exponentiation Node :   <__main__.ExpNode object at 0x106cf6630>\n",
      "Product Node :   <__main__.ProductNode object at 0x106cf65f8>\n"
     ]
    }
   ],
   "source": [
    "#Print the nodes in topological ordering:\n",
    "for node in sort_topological(h):\n",
    "    print(node.node_name,\":  \",node)"
   ]
  },
  {
   "cell_type": "markdown",
   "metadata": {},
   "source": [
    "Then a function that computes a forward pass, given the graph output node, is as simple as the following:"
   ]
  },
  {
   "cell_type": "code",
   "execution_count": 19,
   "metadata": {},
   "outputs": [],
   "source": [
    "def forward_graph(graph_output_node):\n",
    "    node_list = sort_topological(graph_output_node)\n",
    "    for node in node_list:\n",
    "        print(\"Running forward on node \",node.node_name)\n",
    "        out = node.forward()\n",
    "    return out"
   ]
  },
  {
   "cell_type": "markdown",
   "metadata": {},
   "source": [
    "The backward pass is almost as simple:"
   ]
  },
  {
   "cell_type": "code",
   "execution_count": 20,
   "metadata": {},
   "outputs": [],
   "source": [
    "def backward_graph(graph_output_node):\n",
    "    \"\"\"\n",
    "    Assumes that forward_graph has already been called on graph_output_node.\n",
    "    Sets d_out of each node to the appropriate derivative.\n",
    "    \"\"\" \n",
    "    nodes_list = sort_topological(graph_output_node)\n",
    "    nodes_list.reverse()\n",
    "        \n",
    "    graph_output_node.d_out = np.array(1) # Derivative of graph output w.r.t. itself is 1\n",
    "\n",
    "    for node in nodes_list:\n",
    "        print(\"Running backward on node \",node.node_name)\n",
    "        node.backward()\n"
   ]
  },
  {
   "cell_type": "markdown",
   "metadata": {},
   "source": [
    "Let's test it:"
   ]
  },
  {
   "cell_type": "code",
   "execution_count": 21,
   "metadata": {},
   "outputs": [
    {
     "name": "stdout",
     "output_type": "stream",
     "text": [
      "Running forward on node  x\n",
      "Running forward on node  Squaring Node\n",
      "Running forward on node  Exponentiation Node\n",
      "Running forward on node  Product Node\n",
      "J(x)=x^2 e^x= 29.5562243957  for x= 2.0\n",
      "Running backward on node  Product Node\n",
      "Running backward on node  Exponentiation Node\n",
      "Running backward on node  Squaring Node\n",
      "Running backward on node  x\n",
      "J'(x)= 59.1124487914452  for x= 2.0\n"
     ]
    }
   ],
   "source": [
    "x.out = np.array(2.) # set input value\n",
    "out = forward_graph(h) # run forward pass for graph output node h\n",
    "print(\"J(x)=x^2 e^x=\",out,\" for x=\",x.out)\n",
    "backward_graph(h) # run backward pass\n",
    "print(\"J'(x)=\",x.d_out,\" for x=\",x.out)"
   ]
  }
 ],
 "metadata": {
  "celltoolbar": "Raw Cell Format",
  "kernelspec": {
   "display_name": "Python 3",
   "language": "python",
   "name": "python3"
  },
  "language_info": {
   "codemirror_mode": {
    "name": "ipython",
    "version": 3
   },
   "file_extension": ".py",
   "mimetype": "text/x-python",
   "name": "python",
   "nbconvert_exporter": "python",
   "pygments_lexer": "ipython3",
   "version": "3.6.5"
  }
 },
 "nbformat": 4,
 "nbformat_minor": 2
}
